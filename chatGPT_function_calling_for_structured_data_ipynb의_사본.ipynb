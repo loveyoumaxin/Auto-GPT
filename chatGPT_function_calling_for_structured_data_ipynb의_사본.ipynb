{
  "cells": [
    {
      "cell_type": "markdown",
      "metadata": {
        "id": "view-in-github",
        "colab_type": "text"
      },
      "source": [
        "<a href=\"https://colab.research.google.com/github/loveyoumaxin/Auto-GPT/blob/master/chatGPT_function_calling_for_structured_data_ipynb%EC%9D%98_%EC%82%AC%EB%B3%B8.ipynb\" target=\"_parent\"><img src=\"https://colab.research.google.com/assets/colab-badge.svg\" alt=\"Open In Colab\"/></a>"
      ]
    },
    {
      "cell_type": "code",
      "execution_count": null,
      "metadata": {
        "id": "SVyUyy8U8Kpn"
      },
      "outputs": [],
      "source": [
        "import openai\n",
        "import json\n",
        "import dotenv\n",
        "import os\n",
        "\n",
        "dotenv.load_dotenv()\n",
        "\n",
        "openai.api_key = os.getenv(\"OPENAI_API_KEY\")"
      ]
    },
    {
      "cell_type": "code",
      "execution_count": null,
      "metadata": {
        "id": "h-ePasRo8Kpq"
      },
      "outputs": [],
      "source": [
        "extract_company_info_schema = {\n",
        "    \"name\": \"extract_company_info\",\n",
        "    \"description\": \"Extract structured information about companies from unstructured text. The model should process the input text to identify and extract company-related information such as company name, founding date, founders, specializations, and headquarters location. It should tokenize the text, identify relevant entities, and extract the necessary information to fill the parameters. The model should handle ambiguities and inaccuracies in the text and ensure the extracted information is accurate and relevant.\",\n",
        "    \"parameters\": {\n",
        "        \"type\": \"object\",\n",
        "        \"properties\": {\n",
        "            \"companies\": {\n",
        "                \"type\": \"array\",\n",
        "                \"items\": {\n",
        "                    \"type\": \"object\",\n",
        "                    \"properties\": {\n",
        "                        \"name\": {\n",
        "                            \"type\": \"string\",\n",
        "                            \"description\": \"The official name of the company, e.g. Apple Inc.\",\n",
        "                        },\n",
        "                        \"founding_date\": {\n",
        "                            \"type\": \"string\",\n",
        "                            \"description\": \"The date on which the company was founded, e.g. April 1, 1976. The model should ensure the date is in a recognizable format.\",\n",
        "                        },\n",
        "                        \"founders\": {\n",
        "                            \"type\": \"array\",\n",
        "                            \"items\": {\"type\": \"string\"},\n",
        "                            \"description\": \"List of individuals who founded the company, e.g. ['Steve Jobs', 'Steve Wozniak', 'Ronald Wayne']. The model should identify and extract names of all founders mentioned in the text.\",\n",
        "                        },\n",
        "                        \"specializations\": {\n",
        "                            \"type\": \"array\",\n",
        "                            \"items\": {\"type\": \"string\"},\n",
        "                            \"description\": \"The sectors or fields in which the company specializes, e.g. ['consumer electronics', 'computer software', 'online services']. The model should extract all mentioned specializations from the text.\",\n",
        "                        },\n",
        "                        \"headquarters\": {\n",
        "                            \"type\": \"string\",\n",
        "                            \"description\": \"The location of the company’s main headquarters, e.g. Cupertino, California. The model should extract the most specific location mentioned in the text.\",\n",
        "                        },\n",
        "                    },\n",
        "                    \"required\": [\n",
        "                        \"name\",\n",
        "                        \"founding_date\",\n",
        "                        \"founders\",\n",
        "                        \"specializations\",\n",
        "                        \"headquarters\",\n",
        "                    ],\n",
        "                },\n",
        "                \"description\": \"An array of company objects, each representing structured information extracted about a company from the input text.\",\n",
        "            }\n",
        "        },\n",
        "        \"required\": [\"companies\"],\n",
        "    },\n",
        "}"
      ]
    },
    {
      "cell_type": "code",
      "execution_count": null,
      "metadata": {
        "id": "V9tt_z5Z8Kpq"
      },
      "outputs": [],
      "source": [
        "system_message = \"\"\"\\\n",
        "You have been assigned the role of a data extractor. Your task is to process unstructured text and extract precise and \\\n",
        "structured information about companies mentioned in the text. The text may contain details about one or more companies.\n",
        "\n",
        "### Your Responsibilities:\n",
        "1. **Read and Analyze Text:**\n",
        "   Carefully read the provided unstructured text and identify any information related to companies, such as their names, \\\n",
        "founding dates, founders, specializations, and headquarters locations.\n",
        "\n",
        "2. **Extract and Structure Information:**\n",
        "   Accurately extract the identified information and structure it according to the provided JSON schema. Ensure that each \\\n",
        "piece of information is placed under the correct key, and format the data as specified in the schema.\n",
        "\n",
        "3. **Handle Ambiguities:**\n",
        "   In cases where the text contains ambiguities or conflicting information, use your best judgement to resolve them and \\\n",
        "extract the most accurate and relevant information.\n",
        "\n",
        "4. **Validate Information:**\n",
        "   Ensure that the extracted information is valid, relevant, and conforms to the specified formats in the schema. \\\n",
        "For instance, the founding dates should be in recognizable date formats, and the names should be properly capitalized.\n",
        "\n",
        "### Steps to Process:\n",
        "1. **Tokenization:**\n",
        "   Tokenize the input text into words or phrases that represent meaningful entities, such as company names, dates, or locations.\n",
        "\n",
        "2. **Entity Recognition:**\n",
        "   Identify and classify entities in the text, focusing on those related to companies, and extract them.\n",
        "\n",
        "3. **Entity Linking:**\n",
        "   Resolve the extracted entities to their canonical forms, linking them to known entities if possible.\n",
        "\n",
        "4. **Information Structuring:**\n",
        "   Organize the extracted entities under the appropriate keys in the JSON object, following the schema accurately.\n",
        "\n",
        "5. **Validation:**\n",
        "   Review the structured information to ensure its accuracy and adherence to the schema.\n",
        "\n",
        "### Preparation for Function Call:\n",
        "Once you have processed the text and structured the information, prepare the data for the function call. Create a JSON \\\n",
        "object as specified in the schema, filling in the extracted information in the appropriate fields. \\\n",
        "Ensure that the JSON object is well-formed and adheres strictly to the schema's structure and format.\n",
        "\n",
        "Remember, accuracy and attention to detail are crucial in this task. Ensure that the structured information you extract is a \\\n",
        "true representation of the details mentioned in the unstructured text. Your role is pivotal in converting raw, unstructured data into meaningful, \\\n",
        "structured information that can be easily understood and utilized by other systems.\n",
        "\"\"\""
      ]
    },
    {
      "cell_type": "code",
      "execution_count": null,
      "metadata": {
        "id": "04x8AEip8Kpr"
      },
      "outputs": [],
      "source": [
        "sample_data = \"\"\"\\\n",
        "Microsoft Corporation, founded on April 4, 1975, by Bill Gates and Paul Allen, is a multinational technology company. \\\n",
        "The company is well-known for its software products, including the Microsoft Windows line of operating systems, the \\\n",
        "Microsoft Office suite, and the Internet Explorer and Edge web browsers. Its headquarters are situated in Redmond, Washington. \\\n",
        "Google LLC, a subsidiary of Alphabet Inc., was established on September 4, 1998, by Larry Page and Sergey Brin while they were \\\n",
        "Ph.D. students at Stanford University. The company specializes in Internet-related services and products, which include online \\\n",
        "advertising technologies, a search engine, cloud computing, software, and hardware. The main office of Google is in \\\n",
        "Mountain View, California.\n",
        "\"\"\""
      ]
    },
    {
      "cell_type": "code",
      "execution_count": null,
      "metadata": {
        "id": "MUvZE8918Kpr",
        "outputId": "780ebdb8-f703-4d3a-bfdd-d7a40118258e"
      },
      "outputs": [
        {
          "name": "stdout",
          "output_type": "stream",
          "text": [
            "{\n",
            "    \"companies\": [\n",
            "        {\n",
            "            \"name\": \"Microsoft Corporation\",\n",
            "            \"founding_date\": \"April 4, 1975\",\n",
            "            \"founders\": [\n",
            "                \"Bill Gates\",\n",
            "                \"Paul Allen\"\n",
            "            ],\n",
            "            \"specializations\": [\n",
            "                \"software products\"\n",
            "            ],\n",
            "            \"headquarters\": \"Redmond, Washington\"\n",
            "        },\n",
            "        {\n",
            "            \"name\": \"Google LLC\",\n",
            "            \"founding_date\": \"September 4, 1998\",\n",
            "            \"founders\": [\n",
            "                \"Larry Page\",\n",
            "                \"Sergey Brin\"\n",
            "            ],\n",
            "            \"specializations\": [\n",
            "                \"Internet-related services and products\"\n",
            "            ],\n",
            "            \"headquarters\": \"Mountain View, California\"\n",
            "        }\n",
            "    ]\n",
            "}\n"
          ]
        }
      ],
      "source": [
        "response = openai.ChatCompletion.create(\n",
        "    model=\"gpt-3.5-turbo\",\n",
        "    functions=[extract_company_info_schema],\n",
        "    function_call={\"name\": \"extract_company_info\"},  # force the function call.\n",
        "    messages=[\n",
        "        {\"role\": \"system\", \"content\": system_message},\n",
        "        {\"role\": \"user\", \"content\": sample_data},\n",
        "    ],\n",
        ")\n",
        "data = json.loads(response[\"choices\"][0][\"message\"][\"function_call\"][\"arguments\"])\n",
        "print(json.dumps(data, indent=4))"
      ]
    }
  ],
  "metadata": {
    "kernelspec": {
      "display_name": "venv",
      "language": "python",
      "name": "python3"
    },
    "language_info": {
      "codemirror_mode": {
        "name": "ipython",
        "version": 3
      },
      "file_extension": ".py",
      "mimetype": "text/x-python",
      "name": "python",
      "nbconvert_exporter": "python",
      "pygments_lexer": "ipython3",
      "version": "3.11.4"
    },
    "orig_nbformat": 4,
    "colab": {
      "provenance": [],
      "include_colab_link": true
    }
  },
  "nbformat": 4,
  "nbformat_minor": 0
}